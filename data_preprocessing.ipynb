{
 "cells": [
  {
   "cell_type": "markdown",
   "metadata": {},
   "source": [
    "#### Importing Cleaning functions"
   ]
  },
  {
   "cell_type": "code",
   "execution_count": 1,
   "metadata": {},
   "outputs": [],
   "source": [
    "from textCleaning import textCleaner\n",
    "from textCleaning import textCleanerMulti"
   ]
  },
  {
   "cell_type": "markdown",
   "metadata": {},
   "source": [
    "#### Importing Data"
   ]
  },
  {
   "cell_type": "code",
   "execution_count": 2,
   "metadata": {},
   "outputs": [],
   "source": [
    "import pandas as pd"
   ]
  },
  {
   "cell_type": "code",
   "execution_count": 3,
   "metadata": {},
   "outputs": [],
   "source": [
    "df_french = pd.read_csv(\"Data/analyzed_french_tweets.csv\")\n",
    "df_langs = pd.read_csv(\"Data/analyzed_langs_dataset.csv\")"
   ]
  },
  {
   "cell_type": "markdown",
   "metadata": {},
   "source": [
    "#### Inspecting Data"
   ]
  },
  {
   "cell_type": "markdown",
   "metadata": {},
   "source": [
    "French Tweets"
   ]
  },
  {
   "cell_type": "code",
   "execution_count": 4,
   "metadata": {},
   "outputs": [
    {
     "data": {
      "text/plain": [
       "(871538, 2)"
      ]
     },
     "execution_count": 4,
     "metadata": {},
     "output_type": "execute_result"
    }
   ],
   "source": [
    "df_french.shape"
   ]
  },
  {
   "cell_type": "code",
   "execution_count": 5,
   "metadata": {},
   "outputs": [
    {
     "data": {
      "text/plain": [
       "label\n",
       "0    435769\n",
       "1    435769\n",
       "Name: count, dtype: int64"
      ]
     },
     "execution_count": 5,
     "metadata": {},
     "output_type": "execute_result"
    }
   ],
   "source": [
    "df_french['label'].value_counts()"
   ]
  },
  {
   "cell_type": "code",
   "execution_count": 6,
   "metadata": {},
   "outputs": [
    {
     "data": {
      "text/plain": [
       "<Axes: >"
      ]
     },
     "execution_count": 6,
     "metadata": {},
     "output_type": "execute_result"
    },
    {
     "data": {
      "image/png": "[encoded data removed]",
      "text/plain": [
       "<Figure size 640x480 with 1 Axes>"
      ]
     },
     "metadata": {},
     "output_type": "display_data"
    }
   ],
   "source": [
    "df_french['label'].hist(bins=3)"
   ]
  },
  {
   "cell_type": "markdown",
   "metadata": {},
   "source": [
    "Langs Dataset"
   ]
  },
  {
   "cell_type": "code",
   "execution_count": 7,
   "metadata": {},
   "outputs": [
    {
     "data": {
      "text/plain": [
       "(68978, 2)"
      ]
     },
     "execution_count": 7,
     "metadata": {},
     "output_type": "execute_result"
    }
   ],
   "source": [
    "df_langs.shape"
   ]
  },
  {
   "cell_type": "code",
   "execution_count": 8,
   "metadata": {},
   "outputs": [
    {
     "data": {
      "text/plain": [
       "lab4\n",
       "10    3500\n",
       "5     3499\n",
       "3     3499\n",
       "6     3498\n",
       "7     3495\n",
       "20    3491\n",
       "17    3464\n",
       "2     3464\n",
       "19    3464\n",
       "8     3464\n",
       "1     3464\n",
       "14    3463\n",
       "4     3463\n",
       "16    3463\n",
       "15    3463\n",
       "18    3456\n",
       "13    3350\n",
       "9     3346\n",
       "11    3338\n",
       "12    3334\n",
       "Name: count, dtype: int64"
      ]
     },
     "execution_count": 8,
     "metadata": {},
     "output_type": "execute_result"
    }
   ],
   "source": [
    "df_langs['lab4'].value_counts()"
   ]
  },
  {
   "cell_type": "code",
   "execution_count": 9,
   "metadata": {},
   "outputs": [
    {
     "data": {
      "text/plain": [
       "<Axes: >"
      ]
     },
     "execution_count": 9,
     "metadata": {},
     "output_type": "execute_result"
    },
    {
     "data": {
      "image/png": "[encoded data removed]",
      "text/plain": [
       "<Figure size 640x480 with 1 Axes>"
      ]
     },
     "metadata": {},
     "output_type": "display_data"
    }
   ],
   "source": [
    "df_langs['lab4'].hist(bins=3)"
   ]
  },
  {
   "cell_type": "markdown",
   "metadata": {},
   "source": [
    "#### Let's Clean the DATA"
   ]
  },
  {
   "cell_type": "code",
   "execution_count": 10,
   "metadata": {},
   "outputs": [
    {
     "name": "stderr",
     "output_type": "stream",
     "text": [
      "c:\\Users\\medam\\Desktop\\PFE_NLP_SA_LD\\textCleaning.py:11: MarkupResemblesLocatorWarning: The input looks more like a filename than markup. You may want to open this file and pass the filehandle into Beautiful Soup.\n",
      "  soup = BeautifulSoup(text, \"html.parser\")\n",
      "Processing text: 100%|██████████| 871538/871538 [00:00<00:00, 1075353.79it/s]\n"
     ]
    }
   ],
   "source": [
    "from tqdm import tqdm\n",
    "\n",
    "Ftext = df_french['text']\n",
    "\n",
    "# Initialize tqdm with the total number of iterations\n",
    "cleanedText = list(tqdm(Ftext.map(textCleaner), total=len(Ftext), desc=\"Processing text\"))\n",
    "\n",
    "df_french['cleaned text'] = cleanedText"
   ]
  },
  {
   "cell_type": "code",
   "execution_count": 11,
   "metadata": {},
   "outputs": [],
   "source": [
    "df_french = df_french.drop(columns=['text'])"
   ]
  },
  {
   "cell_type": "code",
   "execution_count": 12,
   "metadata": {},
   "outputs": [
    {
     "data": {
      "text/html": [
       "<div>\n",
       "<style scoped>\n",
       "    .dataframe tbody tr th:only-of-type {\n",
       "        vertical-align: middle;\n",
       "    }\n",
       "\n",
       "    .dataframe tbody tr th {\n",
       "        vertical-align: top;\n",
       "    }\n",
       "\n",
       "    .dataframe thead th {\n",
       "        text-align: right;\n",
       "    }\n",
       "</style>\n",
       "<table border=\"1\" class=\"dataframe\">\n",
       "  <thead>\n",
       "    <tr style=\"text-align: right;\">\n",
       "      <th></th>\n",
       "      <th>label</th>\n",
       "      <th>cleaned text</th>\n",
       "    </tr>\n",
       "  </thead>\n",
       "  <tbody>\n",
       "    <tr>\n",
       "      <th>0</th>\n",
       "      <td>0</td>\n",
       "      <td>ne pas neil gaiman pret soir plait</td>\n",
       "    </tr>\n",
       "    <tr>\n",
       "      <th>1</th>\n",
       "      <td>0</td>\n",
       "      <td>dorm je jungl infernal travaill matin lol</td>\n",
       "    </tr>\n",
       "    <tr>\n",
       "      <th>2</th>\n",
       "      <td>0</td>\n",
       "      <td>hah bon ide seul chos peux don a per courri el...</td>\n",
       "    </tr>\n",
       "    <tr>\n",
       "      <th>3</th>\n",
       "      <td>0</td>\n",
       "      <td>a ecol mem sauv</td>\n",
       "    </tr>\n",
       "    <tr>\n",
       "      <th>4</th>\n",
       "      <td>0</td>\n",
       "      <td>abba mi etait sup aujourd hui tel amus dans ch...</td>\n",
       "    </tr>\n",
       "    <tr>\n",
       "      <th>...</th>\n",
       "      <td>...</td>\n",
       "      <td>...</td>\n",
       "    </tr>\n",
       "    <tr>\n",
       "      <th>871533</th>\n",
       "      <td>1</td>\n",
       "      <td>pression pair chos manier interess cel montr m...</td>\n",
       "    </tr>\n",
       "    <tr>\n",
       "      <th>871534</th>\n",
       "      <td>1</td>\n",
       "      <td>heureux entendr ete deplac fait travail esper ...</td>\n",
       "    </tr>\n",
       "    <tr>\n",
       "      <th>871535</th>\n",
       "      <td>1</td>\n",
       "      <td>hey merc desol tel oblig pik grand mer merc to...</td>\n",
       "    </tr>\n",
       "    <tr>\n",
       "      <th>871536</th>\n",
       "      <td>1</td>\n",
       "      <td>ne peut pas attendr annah b day</td>\n",
       "    </tr>\n",
       "    <tr>\n",
       "      <th>871537</th>\n",
       "      <td>1</td>\n",
       "      <td>abandon attent lit text tweet</td>\n",
       "    </tr>\n",
       "  </tbody>\n",
       "</table>\n",
       "<p>871538 rows × 2 columns</p>\n",
       "</div>"
      ],
      "text/plain": [
       "        label                                       cleaned text\n",
       "0           0                 ne pas neil gaiman pret soir plait\n",
       "1           0          dorm je jungl infernal travaill matin lol\n",
       "2           0  hah bon ide seul chos peux don a per courri el...\n",
       "3           0                                    a ecol mem sauv\n",
       "4           0  abba mi etait sup aujourd hui tel amus dans ch...\n",
       "...       ...                                                ...\n",
       "871533      1  pression pair chos manier interess cel montr m...\n",
       "871534      1  heureux entendr ete deplac fait travail esper ...\n",
       "871535      1  hey merc desol tel oblig pik grand mer merc to...\n",
       "871536      1                    ne peut pas attendr annah b day\n",
       "871537      1                      abandon attent lit text tweet\n",
       "\n",
       "[871538 rows x 2 columns]"
      ]
     },
     "execution_count": 12,
     "metadata": {},
     "output_type": "execute_result"
    }
   ],
   "source": [
    "df_french"
   ]
  },
  {
   "cell_type": "code",
   "execution_count": 13,
   "metadata": {},
   "outputs": [
    {
     "name": "stderr",
     "output_type": "stream",
     "text": [
      "Processing text: 100%|██████████| 68978/68978 [00:00<00:00, 823043.77it/s]\n"
     ]
    }
   ],
   "source": [
    "from tqdm import tqdm\n",
    "\n",
    "Ftext = df_langs['text']\n",
    "\n",
    "# Initialize tqdm with the total number of iterations\n",
    "cleanedText = list(tqdm(Ftext.map(textCleanerMulti), total=len(Ftext), desc=\"Processing text\"))\n",
    "\n",
    "df_langs['cleaned text'] = cleanedText"
   ]
  },
  {
   "cell_type": "code",
   "execution_count": 14,
   "metadata": {},
   "outputs": [],
   "source": [
    "df_langs = df_langs.drop(columns=['text'])"
   ]
  },
  {
   "cell_type": "code",
   "execution_count": 15,
   "metadata": {},
   "outputs": [
    {
     "data": {
      "text/html": [
       "<div>\n",
       "<style scoped>\n",
       "    .dataframe tbody tr th:only-of-type {\n",
       "        vertical-align: middle;\n",
       "    }\n",
       "\n",
       "    .dataframe tbody tr th {\n",
       "        vertical-align: top;\n",
       "    }\n",
       "\n",
       "    .dataframe thead th {\n",
       "        text-align: right;\n",
       "    }\n",
       "</style>\n",
       "<table border=\"1\" class=\"dataframe\">\n",
       "  <thead>\n",
       "    <tr style=\"text-align: right;\">\n",
       "      <th></th>\n",
       "      <th>lab4</th>\n",
       "      <th>cleaned text</th>\n",
       "    </tr>\n",
       "  </thead>\n",
       "  <tbody>\n",
       "    <tr>\n",
       "      <th>0</th>\n",
       "      <td>1</td>\n",
       "      <td>الجيش لديه الكثير منهم اكثر من الابطال .</td>\n",
       "    </tr>\n",
       "    <tr>\n",
       "      <th>1</th>\n",
       "      <td>17</td>\n",
       "      <td>nisan      ' de   raporlama döneminin hemen öt...</td>\n",
       "    </tr>\n",
       "    <tr>\n",
       "      <th>2</th>\n",
       "      <td>18</td>\n",
       "      <td>لڑکا نے اس وقت کو دیکھا کہ اس کی آنکھیں دیکھتے...</td>\n",
       "    </tr>\n",
       "    <tr>\n",
       "      <th>3</th>\n",
       "      <td>6</td>\n",
       "      <td>estaba muy contento puesto que funcionaba muy ...</td>\n",
       "    </tr>\n",
       "    <tr>\n",
       "      <th>4</th>\n",
       "      <td>1</td>\n",
       "      <td>ولكن اذا كانت خياراتك اكثر مرونة   فان اكثر ال...</td>\n",
       "    </tr>\n",
       "    <tr>\n",
       "      <th>...</th>\n",
       "      <td>...</td>\n",
       "      <td>...</td>\n",
       "    </tr>\n",
       "    <tr>\n",
       "      <th>68973</th>\n",
       "      <td>1</td>\n",
       "      <td>لديهم مشكلة مخدرات لكنها قانونية انت تعرف انها...</td>\n",
       "    </tr>\n",
       "    <tr>\n",
       "      <th>68974</th>\n",
       "      <td>13</td>\n",
       "      <td>o que dizem os documentos     de novembro de</td>\n",
       "    </tr>\n",
       "    <tr>\n",
       "      <th>68975</th>\n",
       "      <td>2</td>\n",
       "      <td>добре   лека нощ. чао. чао   чао .</td>\n",
       "    </tr>\n",
       "    <tr>\n",
       "      <th>68976</th>\n",
       "      <td>15</td>\n",
       "      <td>kuna barabara mbili kutoka cairo hadi alexandr...</td>\n",
       "    </tr>\n",
       "    <tr>\n",
       "      <th>68977</th>\n",
       "      <td>13</td>\n",
       "      <td>porta-vozes do fbi  cia  serviço canadiano de ...</td>\n",
       "    </tr>\n",
       "  </tbody>\n",
       "</table>\n",
       "<p>68978 rows × 2 columns</p>\n",
       "</div>"
      ],
      "text/plain": [
       "       lab4                                       cleaned text\n",
       "0         1           الجيش لديه الكثير منهم اكثر من الابطال .\n",
       "1        17  nisan      ' de   raporlama döneminin hemen öt...\n",
       "2        18  لڑکا نے اس وقت کو دیکھا کہ اس کی آنکھیں دیکھتے...\n",
       "3         6  estaba muy contento puesto que funcionaba muy ...\n",
       "4         1  ولكن اذا كانت خياراتك اكثر مرونة   فان اكثر ال...\n",
       "...     ...                                                ...\n",
       "68973     1  لديهم مشكلة مخدرات لكنها قانونية انت تعرف انها...\n",
       "68974    13  o que dizem os documentos     de novembro de     \n",
       "68975     2                 добре   лека нощ. чао. чао   чао .\n",
       "68976    15  kuna barabara mbili kutoka cairo hadi alexandr...\n",
       "68977    13  porta-vozes do fbi  cia  serviço canadiano de ...\n",
       "\n",
       "[68978 rows x 2 columns]"
      ]
     },
     "execution_count": 15,
     "metadata": {},
     "output_type": "execute_result"
    }
   ],
   "source": [
    "df_langs"
   ]
  },
  {
   "cell_type": "markdown",
   "metadata": {},
   "source": [
    "#### Saving Data"
   ]
  },
  {
   "cell_type": "code",
   "execution_count": 16,
   "metadata": {},
   "outputs": [],
   "source": [
    "df_french.to_csv(\"Data/Output/cleaned_french_tweets.csv\", index=False)\n",
    "df_langs.to_csv(\"Data/Output/cleaned_langs_dataset.csv\", index=False)"
   ]
  }
 ],
 "metadata": {
  "kernelspec": {
   "display_name": "Python 3",
   "language": "python",
   "name": "python3"
  },
  "language_info": {
   "codemirror_mode": {
    "name": "ipython",
    "version": 3
   },
   "file_extension": ".py",
   "mimetype": "text/x-python",
   "name": "python",
   "nbconvert_exporter": "python",
   "pygments_lexer": "ipython3",
   "version": "3.11.6"
  }
 },
 "nbformat": 4,
 "nbformat_minor": 2
}
